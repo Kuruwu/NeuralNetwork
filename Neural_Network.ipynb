{
  "nbformat": 4,
  "nbformat_minor": 0,
  "metadata": {
    "colab": {
      "provenance": [],
      "gpuType": "T4",
      "authorship_tag": "ABX9TyPeAkXaRPWd2M+KqOZhj/+a",
      "include_colab_link": true
    },
    "kernelspec": {
      "name": "python3",
      "display_name": "Python 3"
    },
    "language_info": {
      "name": "python"
    },
    "accelerator": "GPU"
  },
  "cells": [
    {
      "cell_type": "markdown",
      "metadata": {
        "id": "view-in-github",
        "colab_type": "text"
      },
      "source": [
        "<a href=\"https://colab.research.google.com/github/Kuruwu/NeuralNetwork/blob/main/Neural_Network.ipynb\" target=\"_parent\"><img src=\"https://colab.research.google.com/assets/colab-badge.svg\" alt=\"Open In Colab\"/></a>"
      ]
    },
    {
      "cell_type": "code",
      "execution_count": 12,
      "metadata": {
        "id": "Si5nh2cMs4gG"
      },
      "outputs": [],
      "source": [
        "import numpy as np\n",
        "import matplotlib.pyplot as plt\n",
        "import pandas as pd"
      ]
    },
    {
      "cell_type": "code",
      "source": [
        "dataset = pd.read_csv('Dataset of Diabetes .csv')"
      ],
      "metadata": {
        "id": "RvrIbzmmtqbO"
      },
      "execution_count": 13,
      "outputs": []
    },
    {
      "cell_type": "code",
      "source": [
        "#Fix the whitespace\n",
        "dataset['CLASS'] = dataset['CLASS'].replace({'N ': 'N', 'Y ': 'Y'})\n",
        "#Fix the gender inconsistency\n",
        "dataset['Gender'] = dataset['Gender'].replace({'f': 'F'})"
      ],
      "metadata": {
        "id": "DF2y5pLLp7rB"
      },
      "execution_count": 14,
      "outputs": []
    },
    {
      "cell_type": "code",
      "source": [
        "#Trim the Customer ID and Patient no from the table and seperate out the result into another table\n",
        "X = pd.DataFrame(dataset.iloc[:, 2:13].values)\n",
        "Y = dataset.iloc[:, 13].values\n",
        "print(Y)\n",
        "print(X)"
      ],
      "metadata": {
        "colab": {
          "base_uri": "https://localhost:8080/"
        },
        "id": "JOzS856ttq1-",
        "outputId": "cea25e56-8695-470f-f94b-7f3f323c372a"
      },
      "execution_count": 15,
      "outputs": [
        {
          "output_type": "stream",
          "name": "stdout",
          "text": [
            "['N' 'N' 'N' 'N' 'N' 'N' 'N' 'N' 'N' 'N' 'N' 'N' 'N' 'N' 'N' 'N' 'N' 'N'\n",
            " 'N' 'N' 'N' 'N' 'N' 'N' 'N' 'N' 'N' 'N' 'N' 'N' 'N' 'N' 'N' 'N' 'N' 'N'\n",
            " 'N' 'N' 'N' 'N' 'N' 'N' 'N' 'N' 'N' 'N' 'N' 'N' 'N' 'N' 'N' 'N' 'N' 'N'\n",
            " 'N' 'N' 'N' 'N' 'N' 'N' 'N' 'N' 'N' 'N' 'N' 'N' 'N' 'N' 'N' 'N' 'N' 'N'\n",
            " 'N' 'N' 'N' 'N' 'N' 'N' 'N' 'N' 'N' 'N' 'N' 'N' 'N' 'N' 'N' 'N' 'N' 'N'\n",
            " 'N' 'N' 'N' 'N' 'N' 'N' 'N' 'N' 'N' 'N' 'N' 'N' 'N' 'P' 'P' 'P' 'P' 'P'\n",
            " 'P' 'P' 'P' 'P' 'P' 'P' 'P' 'P' 'P' 'P' 'P' 'P' 'P' 'P' 'P' 'P' 'P' 'P'\n",
            " 'P' 'P' 'P' 'P' 'P' 'P' 'P' 'P' 'P' 'P' 'P' 'P' 'P' 'P' 'P' 'P' 'P' 'P'\n",
            " 'P' 'P' 'P' 'P' 'P' 'P' 'P' 'P' 'P' 'P' 'P' 'P' 'Y' 'Y' 'Y' 'Y' 'Y' 'Y'\n",
            " 'Y' 'Y' 'Y' 'Y' 'Y' 'Y' 'Y' 'Y' 'Y' 'Y' 'Y' 'Y' 'Y' 'Y' 'Y' 'Y' 'Y' 'Y'\n",
            " 'Y' 'Y' 'Y' 'Y' 'Y' 'Y' 'Y' 'Y' 'Y' 'Y' 'Y' 'Y' 'Y' 'Y' 'Y' 'Y' 'Y' 'Y'\n",
            " 'Y' 'Y' 'Y' 'Y' 'Y' 'Y' 'Y' 'Y' 'Y' 'Y' 'Y' 'Y' 'Y' 'Y' 'Y' 'Y' 'Y' 'Y'\n",
            " 'Y' 'Y' 'Y' 'Y' 'Y' 'Y' 'Y' 'Y' 'Y' 'Y' 'Y' 'Y' 'Y' 'Y' 'Y' 'Y' 'Y' 'Y'\n",
            " 'Y' 'Y' 'Y' 'Y' 'Y' 'Y' 'Y' 'Y' 'Y' 'Y' 'Y' 'Y' 'Y' 'Y' 'Y' 'Y' 'Y' 'Y'\n",
            " 'Y' 'Y' 'Y' 'Y' 'Y' 'Y' 'Y' 'Y' 'Y' 'Y' 'Y' 'Y' 'Y' 'Y' 'Y' 'Y' 'Y' 'Y'\n",
            " 'Y' 'Y' 'Y' 'Y' 'Y' 'Y' 'Y' 'Y' 'Y' 'Y' 'Y' 'Y' 'Y' 'Y' 'Y' 'Y' 'Y' 'Y'\n",
            " 'Y' 'Y' 'Y' 'Y' 'Y' 'Y' 'Y' 'Y' 'Y' 'Y' 'Y' 'Y' 'Y' 'Y' 'Y' 'Y' 'Y' 'Y'\n",
            " 'Y' 'Y' 'Y' 'Y' 'Y' 'Y' 'Y' 'Y' 'Y' 'Y' 'Y' 'Y' 'Y' 'Y' 'Y' 'Y' 'Y' 'Y'\n",
            " 'Y' 'Y' 'Y' 'Y' 'Y' 'Y' 'Y' 'Y' 'Y' 'Y' 'Y' 'Y' 'Y' 'Y' 'Y' 'Y' 'Y' 'Y'\n",
            " 'Y' 'Y' 'Y' 'Y' 'Y' 'Y' 'Y' 'Y' 'Y' 'Y' 'Y' 'Y' 'Y' 'Y' 'Y' 'Y' 'Y' 'Y'\n",
            " 'Y' 'Y' 'Y' 'Y' 'Y' 'Y' 'Y' 'Y' 'Y' 'Y' 'Y' 'Y' 'Y' 'Y' 'Y' 'Y' 'Y' 'Y'\n",
            " 'Y' 'Y' 'Y' 'Y' 'Y' 'Y' 'Y' 'Y' 'Y' 'Y' 'Y' 'Y' 'Y' 'Y' 'Y' 'Y' 'Y' 'Y'\n",
            " 'Y' 'Y' 'Y' 'Y' 'Y' 'Y' 'Y' 'Y' 'Y' 'Y' 'Y' 'Y' 'Y' 'Y' 'Y' 'Y' 'Y' 'Y'\n",
            " 'Y' 'Y' 'Y' 'Y' 'Y' 'Y' 'Y' 'Y' 'Y' 'Y' 'Y' 'Y' 'Y' 'Y' 'Y' 'Y' 'Y' 'Y'\n",
            " 'Y' 'Y' 'Y' 'Y' 'Y' 'Y' 'Y' 'Y' 'Y' 'Y' 'Y' 'Y' 'Y' 'Y' 'Y' 'Y' 'Y' 'Y'\n",
            " 'Y' 'Y' 'Y' 'Y' 'Y' 'Y' 'Y' 'Y' 'Y' 'Y' 'Y' 'Y' 'Y' 'Y' 'Y' 'Y' 'Y' 'Y'\n",
            " 'Y' 'Y' 'Y' 'Y' 'Y' 'Y' 'Y' 'Y' 'Y' 'Y' 'Y' 'Y' 'Y' 'Y' 'Y' 'Y' 'Y' 'Y'\n",
            " 'Y' 'Y' 'Y' 'Y' 'Y' 'Y' 'Y' 'Y' 'Y' 'Y' 'Y' 'Y' 'Y' 'Y' 'Y' 'Y' 'Y' 'Y'\n",
            " 'Y' 'Y' 'Y' 'Y' 'Y' 'Y' 'Y' 'Y' 'Y' 'Y' 'Y' 'Y' 'Y' 'Y' 'Y' 'Y' 'Y' 'Y'\n",
            " 'Y' 'Y' 'Y' 'Y' 'Y' 'Y' 'Y' 'Y' 'Y' 'Y' 'Y' 'Y' 'Y' 'Y' 'Y' 'Y' 'Y' 'Y'\n",
            " 'Y' 'Y' 'Y' 'Y' 'Y' 'Y' 'Y' 'Y' 'Y' 'Y' 'Y' 'Y' 'Y' 'Y' 'Y' 'Y' 'Y' 'Y'\n",
            " 'Y' 'Y' 'Y' 'Y' 'Y' 'Y' 'Y' 'Y' 'Y' 'Y' 'Y' 'Y' 'Y' 'Y' 'Y' 'Y' 'Y' 'Y'\n",
            " 'Y' 'Y' 'Y' 'Y' 'Y' 'Y' 'Y' 'Y' 'Y' 'Y' 'Y' 'Y' 'Y' 'Y' 'Y' 'Y' 'Y' 'Y'\n",
            " 'Y' 'Y' 'Y' 'Y' 'Y' 'Y' 'Y' 'Y' 'Y' 'Y' 'Y' 'Y' 'Y' 'Y' 'Y' 'Y' 'Y' 'Y'\n",
            " 'Y' 'Y' 'Y' 'Y' 'Y' 'Y' 'Y' 'Y' 'Y' 'Y' 'Y' 'Y' 'Y' 'Y' 'Y' 'Y' 'Y' 'Y'\n",
            " 'Y' 'Y' 'Y' 'Y' 'Y' 'Y' 'Y' 'Y' 'Y' 'Y' 'Y' 'Y' 'Y' 'Y' 'Y' 'Y' 'Y' 'Y'\n",
            " 'Y' 'Y' 'Y' 'Y' 'Y' 'Y' 'Y' 'Y' 'Y' 'Y' 'Y' 'Y' 'Y' 'Y' 'Y' 'Y' 'Y' 'Y'\n",
            " 'Y' 'Y' 'Y' 'Y' 'Y' 'Y' 'Y' 'Y' 'Y' 'Y' 'Y' 'Y' 'Y' 'Y' 'Y' 'Y' 'Y' 'Y'\n",
            " 'Y' 'Y' 'Y' 'Y' 'Y' 'Y' 'Y' 'Y' 'Y' 'Y' 'Y' 'Y' 'Y' 'Y' 'Y' 'Y' 'Y' 'Y'\n",
            " 'Y' 'Y' 'Y' 'Y' 'Y' 'Y' 'Y' 'Y' 'Y' 'Y' 'Y' 'Y' 'Y' 'Y' 'Y' 'Y' 'Y' 'Y'\n",
            " 'Y' 'Y' 'Y' 'Y' 'Y' 'Y' 'Y' 'Y' 'Y' 'Y' 'Y' 'Y' 'Y' 'Y' 'Y' 'Y' 'Y' 'Y'\n",
            " 'Y' 'Y' 'Y' 'Y' 'Y' 'Y' 'Y' 'Y' 'Y' 'Y' 'Y' 'Y' 'Y' 'Y' 'Y' 'Y' 'Y' 'Y'\n",
            " 'Y' 'Y' 'Y' 'Y' 'Y' 'Y' 'Y' 'Y' 'Y' 'Y' 'Y' 'Y' 'Y' 'Y' 'Y' 'Y' 'Y' 'Y'\n",
            " 'Y' 'Y' 'Y' 'Y' 'Y' 'Y' 'Y' 'Y' 'Y' 'Y' 'Y' 'Y' 'Y' 'Y' 'Y' 'Y' 'Y' 'Y'\n",
            " 'Y' 'Y' 'Y' 'Y' 'Y' 'Y' 'Y' 'Y' 'Y' 'Y' 'Y' 'Y' 'Y' 'Y' 'Y' 'Y' 'Y' 'Y'\n",
            " 'Y' 'Y' 'Y' 'Y' 'Y' 'Y' 'Y' 'Y' 'Y' 'Y' 'Y' 'Y' 'Y' 'Y' 'Y' 'Y' 'Y' 'Y'\n",
            " 'Y' 'Y' 'Y' 'Y' 'Y' 'Y' 'Y' 'Y' 'Y' 'Y' 'Y' 'Y' 'Y' 'Y' 'Y' 'Y' 'Y' 'Y'\n",
            " 'Y' 'Y' 'Y' 'Y' 'Y' 'Y' 'Y' 'Y' 'Y' 'Y' 'Y' 'Y' 'Y' 'Y' 'Y' 'Y' 'Y' 'Y'\n",
            " 'Y' 'Y' 'Y' 'Y' 'Y' 'Y' 'Y' 'Y' 'Y' 'Y' 'Y' 'Y' 'Y' 'Y' 'Y' 'Y' 'Y' 'Y'\n",
            " 'Y' 'Y' 'Y' 'Y' 'Y' 'Y' 'Y' 'Y' 'Y' 'Y' 'Y' 'Y' 'Y' 'Y' 'Y' 'Y' 'Y' 'Y'\n",
            " 'Y' 'Y' 'Y' 'Y' 'Y' 'Y' 'Y' 'Y' 'Y' 'Y' 'Y' 'Y' 'Y' 'Y' 'Y' 'Y' 'Y' 'Y'\n",
            " 'Y' 'Y' 'Y' 'Y' 'Y' 'Y' 'Y' 'Y' 'Y' 'Y' 'Y' 'Y' 'Y' 'Y' 'Y' 'Y' 'Y' 'Y'\n",
            " 'Y' 'Y' 'Y' 'Y' 'Y' 'Y' 'Y' 'Y' 'Y' 'Y' 'Y' 'Y' 'Y' 'Y' 'Y' 'Y' 'Y' 'Y'\n",
            " 'Y' 'Y' 'Y' 'Y' 'Y' 'Y' 'Y' 'Y' 'Y' 'Y' 'Y' 'Y' 'Y' 'Y' 'Y' 'Y' 'Y' 'Y'\n",
            " 'Y' 'Y' 'Y' 'Y' 'Y' 'Y' 'Y' 'Y' 'Y' 'Y' 'Y' 'Y' 'Y' 'Y' 'Y' 'Y' 'Y' 'Y'\n",
            " 'Y' 'Y' 'Y' 'Y' 'Y' 'Y' 'Y' 'Y' 'Y' 'Y']\n",
            "    0   1     2   3     4    5    6    7    8     9     10\n",
            "0    F  50   4.7  46   4.9  4.2  0.9  2.4  1.4   0.5  24.0\n",
            "1    M  26   4.5  62   4.9  3.7  1.4  1.1  2.1   0.6  23.0\n",
            "2    F  50   4.7  46   4.9  4.2  0.9  2.4  1.4   0.5  24.0\n",
            "3    F  50   4.7  46   4.9  4.2  0.9  2.4  1.4   0.5  24.0\n",
            "4    M  33   7.1  46   4.9  4.9  1.0  0.8  2.0   0.4  21.0\n",
            "..  ..  ..   ...  ..   ...  ...  ...  ...  ...   ...   ...\n",
            "995  M  71  11.0  97   7.0  7.5  1.7  1.2  1.8   0.6  30.0\n",
            "996  M  31   3.0  60  12.3  4.1  2.2  0.7  2.4  15.4  37.2\n",
            "997  M  30   7.1  81   6.7  4.1  1.1  1.2  2.4   8.1  27.4\n",
            "998  M  38   5.8  59   6.7  5.3  2.0  1.6  2.9  14.0  40.5\n",
            "999  M  54   5.0  67   6.9  3.8  1.7  1.1  3.0   0.7  33.0\n",
            "\n",
            "[1000 rows x 11 columns]\n"
          ]
        }
      ]
    },
    {
      "cell_type": "code",
      "source": [
        "#Y = np.char.strip(Y)\n",
        "#print(Y)"
      ],
      "metadata": {
        "id": "OaKXrToX42E0"
      },
      "execution_count": 16,
      "outputs": []
    },
    {
      "cell_type": "code",
      "source": [
        "from sklearn.preprocessing import LabelEncoder, OneHotEncoder\n",
        "labelencoder_X_0 = LabelEncoder()\n",
        "X.loc[:, 0] = labelencoder_X_0.fit_transform(X.iloc[:, 0]) #Turning male and female into binary representation (0 or 1)\n",
        "print(X)"
      ],
      "metadata": {
        "id": "pqtND7pMt0rk",
        "colab": {
          "base_uri": "https://localhost:8080/"
        },
        "outputId": "dc97823d-c8ab-4e64-9088-4979a6b473cd"
      },
      "execution_count": 17,
      "outputs": [
        {
          "output_type": "stream",
          "name": "stdout",
          "text": [
            "    0   1     2   3     4    5    6    7    8     9     10\n",
            "0    0  50   4.7  46   4.9  4.2  0.9  2.4  1.4   0.5  24.0\n",
            "1    1  26   4.5  62   4.9  3.7  1.4  1.1  2.1   0.6  23.0\n",
            "2    0  50   4.7  46   4.9  4.2  0.9  2.4  1.4   0.5  24.0\n",
            "3    0  50   4.7  46   4.9  4.2  0.9  2.4  1.4   0.5  24.0\n",
            "4    1  33   7.1  46   4.9  4.9  1.0  0.8  2.0   0.4  21.0\n",
            "..  ..  ..   ...  ..   ...  ...  ...  ...  ...   ...   ...\n",
            "995  1  71  11.0  97   7.0  7.5  1.7  1.2  1.8   0.6  30.0\n",
            "996  1  31   3.0  60  12.3  4.1  2.2  0.7  2.4  15.4  37.2\n",
            "997  1  30   7.1  81   6.7  4.1  1.1  1.2  2.4   8.1  27.4\n",
            "998  1  38   5.8  59   6.7  5.3  2.0  1.6  2.9  14.0  40.5\n",
            "999  1  54   5.0  67   6.9  3.8  1.7  1.1  3.0   0.7  33.0\n",
            "\n",
            "[1000 rows x 11 columns]\n"
          ]
        }
      ]
    },
    {
      "cell_type": "code",
      "source": [
        "onehotencoder = OneHotEncoder(categories='auto', sparse_output=False)\n",
        "Y = onehotencoder.fit_transform(Y.reshape(-1, 1))\n",
        "print(Y) #Formatting The Classes N P Y into a binary matrix\n",
        "classes_order = onehotencoder.categories_[0]\n",
        "print(classes_order)"
      ],
      "metadata": {
        "colab": {
          "base_uri": "https://localhost:8080/"
        },
        "id": "jw2SpXNY0ysl",
        "outputId": "850bc59a-a179-4c1f-dea7-100ce92f55c6"
      },
      "execution_count": 18,
      "outputs": [
        {
          "output_type": "stream",
          "name": "stdout",
          "text": [
            "[[1. 0. 0.]\n",
            " [1. 0. 0.]\n",
            " [1. 0. 0.]\n",
            " ...\n",
            " [0. 0. 1.]\n",
            " [0. 0. 1.]\n",
            " [0. 0. 1.]]\n",
            "['N' 'P' 'Y']\n"
          ]
        }
      ]
    },
    {
      "cell_type": "code",
      "source": [
        "from sklearn.model_selection import train_test_split\n",
        "X_train, X_test, Y_train, Y_test = train_test_split(X, Y, test_size = 0.2, random_state = 0) #20% of dataset will be used for testing."
      ],
      "metadata": {
        "id": "5ugIrN_9ufw7"
      },
      "execution_count": 19,
      "outputs": []
    },
    {
      "cell_type": "code",
      "source": [
        "from sklearn.preprocessing import StandardScaler\n",
        "sc = StandardScaler()\n",
        "X_train = sc.fit_transform(X_train)\n",
        "X_test = sc.transform(X_test) #Normalize the data\n",
        "print(X_test)\n",
        "print(X_train)"
      ],
      "metadata": {
        "colab": {
          "base_uri": "https://localhost:8080/"
        },
        "id": "MzhejhQ4uW3X",
        "outputId": "48600ef5-939a-470f-f376-6b7b7beb3195"
      },
      "execution_count": 20,
      "outputs": [
        {
          "output_type": "stream",
          "name": "stdout",
          "text": [
            "[[ 0.86634118 -2.82406172 -0.55374694 ... -0.00926875 -0.29117027\n",
            "   1.4760338 ]\n",
            " [ 0.86634118 -0.25508285  0.10876351 ... -0.54208306 -0.45133727\n",
            "   0.09798425]\n",
            " [ 0.86634118  0.30339082 -0.65312351 ...  0.70115033 -0.21108677\n",
            "   0.49171269]\n",
            " ...\n",
            " [-1.15427965 -2.26558805  0.17501456 ...  1.14516226 -0.10430876\n",
            "  -1.28006531]\n",
            " [ 0.86634118 -0.25508285 -0.4874959  ... -0.80849021 -0.10430876\n",
            "   1.08230536]\n",
            " [ 0.86634118 -1.14864072 -0.25561724 ... -0.63088544 -0.29117027\n",
            "  -0.09887998]]\n",
            "[[ 0.86634118  0.97355922 -0.0568641  ... -0.09807113 -0.26447577\n",
            "   0.09798425]\n",
            " [ 0.86634118 -0.14338811  0.07563799 ... -0.09807113 -0.26447577\n",
            "  -0.2957442 ]\n",
            " [-1.15427965  0.86186449 -0.61999799 ... -1.51890929 -0.10430876\n",
            "   1.27916958]\n",
            " ...\n",
            " [ 0.86634118  0.41508555 -0.35499381 ... -0.09807113 -0.26447577\n",
            "   0.09798425]\n",
            " [ 0.86634118  0.19169609 -0.85187665 ...  0.8787551  -0.07761426\n",
            "   1.27916958]\n",
            " [ 0.86634118  0.75016976 -0.32186828 ... -1.07489737 -0.21108677\n",
            "   0.88544114]]\n"
          ]
        }
      ]
    },
    {
      "cell_type": "code",
      "source": [
        "import keras\n",
        "from keras.models import Sequential\n",
        "from keras.layers import Dense\n",
        "#The term \"dense\" implies that each neuron in this layer is connected to every neuron in the previous layer, forming a fully connected layer."
      ],
      "metadata": {
        "id": "vHufgC1Xukxs"
      },
      "execution_count": 21,
      "outputs": []
    },
    {
      "cell_type": "code",
      "source": [
        "classifier = Sequential() #Creating our model"
      ],
      "metadata": {
        "id": "ZPchaP42wWhk"
      },
      "execution_count": 22,
      "outputs": []
    },
    {
      "cell_type": "code",
      "source": [
        "#Input and Hidden Layer\n",
        "classifier.add(Dense(units=6, kernel_initializer='uniform', activation='relu', input_dim=11))\n",
        "#Add 6 neurons to our layer that takes 11 inputs (Each column). RELU activation."
      ],
      "metadata": {
        "id": "gwuFQDPzwcqi"
      },
      "execution_count": 23,
      "outputs": []
    },
    {
      "cell_type": "code",
      "source": [
        "classifier.add(Dense(units=6, kernel_initializer='uniform', activation='relu')) #Hidden Layer 2"
      ],
      "metadata": {
        "id": "XO8JRmFJH7xq"
      },
      "execution_count": 24,
      "outputs": []
    },
    {
      "cell_type": "code",
      "source": [
        "classifier.add(Dense(units=3, kernel_initializer='uniform', activation='softmax')) #Output Layer (3 Outputs for 3 Possible Values N P Y)"
      ],
      "metadata": {
        "id": "IQCGGR2VyZ93"
      },
      "execution_count": 25,
      "outputs": []
    },
    {
      "cell_type": "code",
      "source": [
        "classifier.compile(optimizer = 'adam', loss = 'categorical_crossentropy', metrics = ['accuracy'])"
      ],
      "metadata": {
        "id": "0-qh85oMykEU"
      },
      "execution_count": 26,
      "outputs": []
    },
    {
      "cell_type": "code",
      "source": [
        "history=classifier.fit(X_train, Y_train, batch_size = 10, epochs = 80)"
      ],
      "metadata": {
        "colab": {
          "base_uri": "https://localhost:8080/"
        },
        "id": "2Kv3Xw1oylxi",
        "outputId": "bc7a68d2-502e-45ba-8beb-f93aa6ea7177"
      },
      "execution_count": 27,
      "outputs": [
        {
          "output_type": "stream",
          "name": "stdout",
          "text": [
            "Epoch 1/80\n",
            "80/80 [==============================] - 2s 4ms/step - loss: 1.0567 - accuracy: 0.8300\n",
            "Epoch 2/80\n",
            "80/80 [==============================] - 0s 2ms/step - loss: 0.8688 - accuracy: 0.8350\n",
            "Epoch 3/80\n",
            "80/80 [==============================] - 0s 2ms/step - loss: 0.5106 - accuracy: 0.8350\n",
            "Epoch 4/80\n",
            "80/80 [==============================] - 0s 4ms/step - loss: 0.3655 - accuracy: 0.8350\n",
            "Epoch 5/80\n",
            "80/80 [==============================] - 0s 6ms/step - loss: 0.3296 - accuracy: 0.8350\n",
            "Epoch 6/80\n",
            "80/80 [==============================] - 0s 3ms/step - loss: 0.3102 - accuracy: 0.8350\n",
            "Epoch 7/80\n",
            "80/80 [==============================] - 0s 2ms/step - loss: 0.2951 - accuracy: 0.8350\n",
            "Epoch 8/80\n",
            "80/80 [==============================] - 0s 2ms/step - loss: 0.2821 - accuracy: 0.8350\n",
            "Epoch 9/80\n",
            "80/80 [==============================] - 1s 9ms/step - loss: 0.2708 - accuracy: 0.8350\n",
            "Epoch 10/80\n",
            "80/80 [==============================] - 0s 2ms/step - loss: 0.2608 - accuracy: 0.8600\n",
            "Epoch 11/80\n",
            "80/80 [==============================] - 0s 2ms/step - loss: 0.2522 - accuracy: 0.9038\n",
            "Epoch 12/80\n",
            "80/80 [==============================] - 0s 2ms/step - loss: 0.2451 - accuracy: 0.9100\n",
            "Epoch 13/80\n",
            "80/80 [==============================] - 0s 2ms/step - loss: 0.2385 - accuracy: 0.9100\n",
            "Epoch 14/80\n",
            "80/80 [==============================] - 0s 2ms/step - loss: 0.2335 - accuracy: 0.9100\n",
            "Epoch 15/80\n",
            "80/80 [==============================] - 0s 2ms/step - loss: 0.2287 - accuracy: 0.9062\n",
            "Epoch 16/80\n",
            "80/80 [==============================] - 0s 2ms/step - loss: 0.2244 - accuracy: 0.9100\n",
            "Epoch 17/80\n",
            "80/80 [==============================] - 0s 2ms/step - loss: 0.2209 - accuracy: 0.9087\n",
            "Epoch 18/80\n",
            "80/80 [==============================] - 0s 2ms/step - loss: 0.2181 - accuracy: 0.9100\n",
            "Epoch 19/80\n",
            "80/80 [==============================] - 0s 2ms/step - loss: 0.2156 - accuracy: 0.9100\n",
            "Epoch 20/80\n",
            "80/80 [==============================] - 0s 2ms/step - loss: 0.2131 - accuracy: 0.9112\n",
            "Epoch 21/80\n",
            "80/80 [==============================] - 0s 2ms/step - loss: 0.2100 - accuracy: 0.9125\n",
            "Epoch 22/80\n",
            "80/80 [==============================] - 0s 2ms/step - loss: 0.2073 - accuracy: 0.9125\n",
            "Epoch 23/80\n",
            "80/80 [==============================] - 0s 2ms/step - loss: 0.2049 - accuracy: 0.9112\n",
            "Epoch 24/80\n",
            "80/80 [==============================] - 0s 2ms/step - loss: 0.2019 - accuracy: 0.9162\n",
            "Epoch 25/80\n",
            "80/80 [==============================] - 0s 2ms/step - loss: 0.1997 - accuracy: 0.9150\n",
            "Epoch 26/80\n",
            "80/80 [==============================] - 0s 2ms/step - loss: 0.1971 - accuracy: 0.9150\n",
            "Epoch 27/80\n",
            "80/80 [==============================] - 0s 2ms/step - loss: 0.1952 - accuracy: 0.9162\n",
            "Epoch 28/80\n",
            "80/80 [==============================] - 0s 2ms/step - loss: 0.1933 - accuracy: 0.9162\n",
            "Epoch 29/80\n",
            "80/80 [==============================] - 0s 2ms/step - loss: 0.1907 - accuracy: 0.9137\n",
            "Epoch 30/80\n",
            "80/80 [==============================] - 0s 2ms/step - loss: 0.1893 - accuracy: 0.9150\n",
            "Epoch 31/80\n",
            "80/80 [==============================] - 0s 2ms/step - loss: 0.1866 - accuracy: 0.9162\n",
            "Epoch 32/80\n",
            "80/80 [==============================] - 0s 2ms/step - loss: 0.1851 - accuracy: 0.9162\n",
            "Epoch 33/80\n",
            "80/80 [==============================] - 0s 2ms/step - loss: 0.1833 - accuracy: 0.9150\n",
            "Epoch 34/80\n",
            "80/80 [==============================] - 0s 2ms/step - loss: 0.1819 - accuracy: 0.9150\n",
            "Epoch 35/80\n",
            "80/80 [==============================] - 0s 2ms/step - loss: 0.1803 - accuracy: 0.9162\n",
            "Epoch 36/80\n",
            "80/80 [==============================] - 0s 2ms/step - loss: 0.1773 - accuracy: 0.9162\n",
            "Epoch 37/80\n",
            "80/80 [==============================] - 0s 2ms/step - loss: 0.1756 - accuracy: 0.9162\n",
            "Epoch 38/80\n",
            "80/80 [==============================] - 0s 2ms/step - loss: 0.1740 - accuracy: 0.9187\n",
            "Epoch 39/80\n",
            "80/80 [==============================] - 0s 2ms/step - loss: 0.1719 - accuracy: 0.9187\n",
            "Epoch 40/80\n",
            "80/80 [==============================] - 0s 2ms/step - loss: 0.1710 - accuracy: 0.9162\n",
            "Epoch 41/80\n",
            "80/80 [==============================] - 0s 2ms/step - loss: 0.1697 - accuracy: 0.9175\n",
            "Epoch 42/80\n",
            "80/80 [==============================] - 0s 2ms/step - loss: 0.1676 - accuracy: 0.9175\n",
            "Epoch 43/80\n",
            "80/80 [==============================] - 0s 2ms/step - loss: 0.1669 - accuracy: 0.9187\n",
            "Epoch 44/80\n",
            "80/80 [==============================] - 0s 2ms/step - loss: 0.1646 - accuracy: 0.9187\n",
            "Epoch 45/80\n",
            "80/80 [==============================] - 0s 2ms/step - loss: 0.1636 - accuracy: 0.9212\n",
            "Epoch 46/80\n",
            "80/80 [==============================] - 0s 2ms/step - loss: 0.1627 - accuracy: 0.9175\n",
            "Epoch 47/80\n",
            "80/80 [==============================] - 0s 2ms/step - loss: 0.1613 - accuracy: 0.9250\n",
            "Epoch 48/80\n",
            "80/80 [==============================] - 0s 2ms/step - loss: 0.1602 - accuracy: 0.9287\n",
            "Epoch 49/80\n",
            "80/80 [==============================] - 0s 2ms/step - loss: 0.1589 - accuracy: 0.9287\n",
            "Epoch 50/80\n",
            "80/80 [==============================] - 0s 2ms/step - loss: 0.1581 - accuracy: 0.9225\n",
            "Epoch 51/80\n",
            "80/80 [==============================] - 0s 2ms/step - loss: 0.1567 - accuracy: 0.9300\n",
            "Epoch 52/80\n",
            "80/80 [==============================] - 0s 3ms/step - loss: 0.1563 - accuracy: 0.9262\n",
            "Epoch 53/80\n",
            "80/80 [==============================] - 0s 2ms/step - loss: 0.1540 - accuracy: 0.9262\n",
            "Epoch 54/80\n",
            "80/80 [==============================] - 0s 2ms/step - loss: 0.1534 - accuracy: 0.9312\n",
            "Epoch 55/80\n",
            "80/80 [==============================] - 0s 2ms/step - loss: 0.1522 - accuracy: 0.9287\n",
            "Epoch 56/80\n",
            "80/80 [==============================] - 0s 2ms/step - loss: 0.1514 - accuracy: 0.9350\n",
            "Epoch 57/80\n",
            "80/80 [==============================] - 0s 3ms/step - loss: 0.1511 - accuracy: 0.9325\n",
            "Epoch 58/80\n",
            "80/80 [==============================] - 0s 3ms/step - loss: 0.1487 - accuracy: 0.9275\n",
            "Epoch 59/80\n",
            "80/80 [==============================] - 0s 2ms/step - loss: 0.1479 - accuracy: 0.9262\n",
            "Epoch 60/80\n",
            "80/80 [==============================] - 0s 3ms/step - loss: 0.1478 - accuracy: 0.9250\n",
            "Epoch 61/80\n",
            "80/80 [==============================] - 0s 2ms/step - loss: 0.1473 - accuracy: 0.9350\n",
            "Epoch 62/80\n",
            "80/80 [==============================] - 0s 2ms/step - loss: 0.1452 - accuracy: 0.9287\n",
            "Epoch 63/80\n",
            "80/80 [==============================] - 0s 2ms/step - loss: 0.1449 - accuracy: 0.9312\n",
            "Epoch 64/80\n",
            "80/80 [==============================] - 0s 3ms/step - loss: 0.1448 - accuracy: 0.9375\n",
            "Epoch 65/80\n",
            "80/80 [==============================] - 0s 2ms/step - loss: 0.1430 - accuracy: 0.9337\n",
            "Epoch 66/80\n",
            "80/80 [==============================] - 0s 2ms/step - loss: 0.1428 - accuracy: 0.9325\n",
            "Epoch 67/80\n",
            "80/80 [==============================] - 0s 3ms/step - loss: 0.1417 - accuracy: 0.9337\n",
            "Epoch 68/80\n",
            "80/80 [==============================] - 0s 3ms/step - loss: 0.1400 - accuracy: 0.9375\n",
            "Epoch 69/80\n",
            "80/80 [==============================] - 0s 3ms/step - loss: 0.1404 - accuracy: 0.9350\n",
            "Epoch 70/80\n",
            "80/80 [==============================] - 0s 2ms/step - loss: 0.1398 - accuracy: 0.9350\n",
            "Epoch 71/80\n",
            "80/80 [==============================] - 0s 2ms/step - loss: 0.1392 - accuracy: 0.9375\n",
            "Epoch 72/80\n",
            "80/80 [==============================] - 0s 2ms/step - loss: 0.1391 - accuracy: 0.9388\n",
            "Epoch 73/80\n",
            "80/80 [==============================] - 0s 2ms/step - loss: 0.1392 - accuracy: 0.9450\n",
            "Epoch 74/80\n",
            "80/80 [==============================] - 0s 2ms/step - loss: 0.1380 - accuracy: 0.9375\n",
            "Epoch 75/80\n",
            "80/80 [==============================] - 0s 2ms/step - loss: 0.1368 - accuracy: 0.9388\n",
            "Epoch 76/80\n",
            "80/80 [==============================] - 0s 2ms/step - loss: 0.1362 - accuracy: 0.9400\n",
            "Epoch 77/80\n",
            "80/80 [==============================] - 0s 2ms/step - loss: 0.1347 - accuracy: 0.9388\n",
            "Epoch 78/80\n",
            "80/80 [==============================] - 0s 2ms/step - loss: 0.1344 - accuracy: 0.9388\n",
            "Epoch 79/80\n",
            "80/80 [==============================] - 0s 2ms/step - loss: 0.1341 - accuracy: 0.9425\n",
            "Epoch 80/80\n",
            "80/80 [==============================] - 0s 2ms/step - loss: 0.1335 - accuracy: 0.9438\n"
          ]
        }
      ]
    },
    {
      "cell_type": "code",
      "source": [
        "plt.plot(history.history['loss'])\n",
        "plt.title('Model loss')\n",
        "plt.ylabel('Loss')\n",
        "plt.xlabel('Epoch')\n",
        "plt.show()"
      ],
      "metadata": {
        "colab": {
          "base_uri": "https://localhost:8080/",
          "height": 472
        },
        "id": "IojnI6lV-Fyd",
        "outputId": "20b692c3-3779-4219-cfb9-fc68f0c6b49a"
      },
      "execution_count": 28,
      "outputs": [
        {
          "output_type": "display_data",
          "data": {
            "text/plain": [
              "<Figure size 640x480 with 1 Axes>"
            ],
            "image/png": "[encoded data removed]"
          },
          "metadata": {}
        }
      ]
    },
    {
      "cell_type": "code",
      "source": [
        "loss, accuracy = classifier.evaluate(X_test, Y_test) #Using test data\n",
        "\n",
        "#Print the loss and accuracy (metrics)\n",
        "print(\"Test Loss:\", loss)\n",
        "print(\"Test Accuracy:\", accuracy)"
      ],
      "metadata": {
        "id": "oB9O9Ok6Mc41",
        "colab": {
          "base_uri": "https://localhost:8080/"
        },
        "outputId": "54ec6898-3a7d-470a-ad44-6c9e28743bd6"
      },
      "execution_count": 29,
      "outputs": [
        {
          "output_type": "stream",
          "name": "stdout",
          "text": [
            "7/7 [==============================] - 0s 2ms/step - loss: 0.1487 - accuracy: 0.9450\n",
            "Test Loss: 0.14871667325496674\n",
            "Test Accuracy: 0.9449999928474426\n"
          ]
        }
      ]
    },
    {
      "cell_type": "code",
      "source": [
        "#Get predictions on the test data\n",
        "from sklearn.metrics import confusion_matrix\n",
        "y_pred = classifier.predict(X_test)\n",
        "cm = confusion_matrix(Y_test.argmax(axis=1), y_pred.argmax(axis=1))\n",
        "print(\"Confusion Matrix:\")\n",
        "print(cm)"
      ],
      "metadata": {
        "colab": {
          "base_uri": "https://localhost:8080/"
        },
        "id": "maqvTPVkF7iz",
        "outputId": "5319c381-a559-4b07-abb4-0c1ec578c02c"
      },
      "execution_count": 30,
      "outputs": [
        {
          "output_type": "stream",
          "name": "stdout",
          "text": [
            "7/7 [==============================] - 0s 2ms/step\n",
            "Confusion Matrix:\n",
            "[[ 15   1   0]\n",
            " [  0   3   5]\n",
            " [  4   1 171]]\n"
          ]
        }
      ]
    },
    {
      "cell_type": "code",
      "source": [
        "#Show the probabilities of each class between 0 and 1 using scientific notation.\n",
        "y_probabilities = classifier.predict(X_test)\n",
        "#Round to two decimal places for readability.\n",
        "y_probabilities = np.round(y_probabilities, decimals=2)\n",
        "print(y_probabilities)"
      ],
      "metadata": {
        "colab": {
          "base_uri": "https://localhost:8080/"
        },
        "id": "sGCFubXrox0Q",
        "outputId": "53912223-2fdb-4179-baa6-50116f1ec74f"
      },
      "execution_count": 31,
      "outputs": [
        {
          "output_type": "stream",
          "name": "stdout",
          "text": [
            "7/7 [==============================] - 0s 2ms/step\n",
            "[[0.   0.   1.  ]\n",
            " [0.   0.   1.  ]\n",
            " [0.   0.   1.  ]\n",
            " [0.   0.   1.  ]\n",
            " [0.   0.   1.  ]\n",
            " [0.   0.05 0.95]\n",
            " [0.89 0.09 0.02]\n",
            " [0.   0.   1.  ]\n",
            " [0.   0.03 0.97]\n",
            " [0.   0.   1.  ]\n",
            " [0.   0.   1.  ]\n",
            " [0.   0.   1.  ]\n",
            " [0.   0.   1.  ]\n",
            " [0.   0.   1.  ]\n",
            " [0.   0.   1.  ]\n",
            " [0.93 0.06 0.01]\n",
            " [0.01 0.36 0.63]\n",
            " [0.79 0.16 0.05]\n",
            " [0.88 0.09 0.02]\n",
            " [0.93 0.06 0.01]\n",
            " [0.9  0.08 0.02]\n",
            " [0.   0.   1.  ]\n",
            " [0.   0.   1.  ]\n",
            " [0.   0.   1.  ]\n",
            " [0.   0.   1.  ]\n",
            " [0.   0.   1.  ]\n",
            " [0.88 0.09 0.02]\n",
            " [0.08 0.46 0.46]\n",
            " [0.   0.   1.  ]\n",
            " [0.89 0.09 0.02]\n",
            " [0.   0.   1.  ]\n",
            " [0.   0.01 0.99]\n",
            " [0.   0.   1.  ]\n",
            " [0.   0.   1.  ]\n",
            " [0.   0.   1.  ]\n",
            " [0.   0.   1.  ]\n",
            " [0.   0.   1.  ]\n",
            " [0.   0.   1.  ]\n",
            " [0.   0.05 0.95]\n",
            " [0.   0.   1.  ]\n",
            " [0.   0.   1.  ]\n",
            " [0.   0.   1.  ]\n",
            " [0.   0.   1.  ]\n",
            " [0.   0.   1.  ]\n",
            " [0.   0.   1.  ]\n",
            " [0.   0.   1.  ]\n",
            " [0.   0.   1.  ]\n",
            " [0.28 0.44 0.28]\n",
            " [0.   0.   1.  ]\n",
            " [0.   0.   1.  ]\n",
            " [0.   0.   1.  ]\n",
            " [0.   0.   1.  ]\n",
            " [0.   0.   1.  ]\n",
            " [0.   0.   1.  ]\n",
            " [0.   0.03 0.97]\n",
            " [0.   0.   1.  ]\n",
            " [0.   0.   1.  ]\n",
            " [0.   0.01 0.99]\n",
            " [0.   0.   1.  ]\n",
            " [0.   0.   1.  ]\n",
            " [0.   0.   1.  ]\n",
            " [0.   0.   1.  ]\n",
            " [0.05 0.42 0.53]\n",
            " [0.93 0.06 0.01]\n",
            " [0.   0.   1.  ]\n",
            " [0.   0.06 0.94]\n",
            " [0.   0.06 0.94]\n",
            " [0.   0.   1.  ]\n",
            " [0.   0.   1.  ]\n",
            " [0.   0.   1.  ]\n",
            " [0.   0.   1.  ]\n",
            " [0.   0.   1.  ]\n",
            " [0.   0.   1.  ]\n",
            " [0.   0.   1.  ]\n",
            " [0.   0.   1.  ]\n",
            " [0.   0.   1.  ]\n",
            " [0.   0.   1.  ]\n",
            " [0.   0.   1.  ]\n",
            " [0.58 0.3  0.12]\n",
            " [0.   0.   1.  ]\n",
            " [0.   0.   1.  ]\n",
            " [0.   0.   1.  ]\n",
            " [0.   0.   1.  ]\n",
            " [0.   0.01 0.99]\n",
            " [0.   0.   1.  ]\n",
            " [0.   0.   1.  ]\n",
            " [0.   0.   1.  ]\n",
            " [0.   0.   1.  ]\n",
            " [0.   0.   1.  ]\n",
            " [0.   0.   1.  ]\n",
            " [0.   0.   1.  ]\n",
            " [0.   0.   1.  ]\n",
            " [0.   0.01 0.99]\n",
            " [0.   0.01 0.99]\n",
            " [0.   0.   1.  ]\n",
            " [0.   0.   1.  ]\n",
            " [0.   0.   1.  ]\n",
            " [0.   0.19 0.81]\n",
            " [0.   0.   1.  ]\n",
            " [0.   0.   1.  ]\n",
            " [0.   0.   1.  ]\n",
            " [0.   0.02 0.98]\n",
            " [0.62 0.27 0.11]\n",
            " [0.   0.   1.  ]\n",
            " [0.   0.   1.  ]\n",
            " [0.   0.   1.  ]\n",
            " [0.   0.01 0.99]\n",
            " [0.   0.   1.  ]\n",
            " [0.   0.01 0.99]\n",
            " [0.   0.08 0.92]\n",
            " [0.93 0.06 0.01]\n",
            " [0.   0.   1.  ]\n",
            " [0.   0.   1.  ]\n",
            " [0.   0.   1.  ]\n",
            " [0.   0.01 0.99]\n",
            " [0.   0.   1.  ]\n",
            " [0.   0.   1.  ]\n",
            " [0.   0.   1.  ]\n",
            " [0.   0.   1.  ]\n",
            " [0.   0.   1.  ]\n",
            " [0.   0.   1.  ]\n",
            " [0.   0.   1.  ]\n",
            " [0.13 0.47 0.41]\n",
            " [0.   0.   1.  ]\n",
            " [0.81 0.15 0.04]\n",
            " [0.   0.   1.  ]\n",
            " [0.   0.   1.  ]\n",
            " [0.   0.   1.  ]\n",
            " [0.   0.   1.  ]\n",
            " [0.   0.   1.  ]\n",
            " [0.   0.   1.  ]\n",
            " [0.   0.   1.  ]\n",
            " [0.   0.01 0.99]\n",
            " [0.   0.   1.  ]\n",
            " [0.   0.   1.  ]\n",
            " [0.   0.   1.  ]\n",
            " [0.   0.   1.  ]\n",
            " [0.91 0.07 0.02]\n",
            " [0.   0.   1.  ]\n",
            " [0.   0.02 0.98]\n",
            " [0.93 0.06 0.01]\n",
            " [0.   0.   1.  ]\n",
            " [0.   0.   1.  ]\n",
            " [0.   0.01 0.99]\n",
            " [0.   0.   1.  ]\n",
            " [0.   0.   1.  ]\n",
            " [0.   0.   1.  ]\n",
            " [0.   0.   1.  ]\n",
            " [0.14 0.44 0.42]\n",
            " [0.51 0.34 0.15]\n",
            " [0.   0.   1.  ]\n",
            " [0.93 0.06 0.01]\n",
            " [0.   0.   1.  ]\n",
            " [0.   0.   1.  ]\n",
            " [0.   0.   1.  ]\n",
            " [0.   0.   1.  ]\n",
            " [0.   0.   1.  ]\n",
            " [0.   0.02 0.98]\n",
            " [0.   0.   1.  ]\n",
            " [0.   0.   1.  ]\n",
            " [0.   0.   1.  ]\n",
            " [0.   0.   1.  ]\n",
            " [0.   0.   1.  ]\n",
            " [0.   0.   1.  ]\n",
            " [0.   0.   1.  ]\n",
            " [0.   0.   1.  ]\n",
            " [0.   0.   1.  ]\n",
            " [0.   0.   1.  ]\n",
            " [0.   0.01 0.99]\n",
            " [0.   0.   1.  ]\n",
            " [0.   0.   1.  ]\n",
            " [0.   0.   1.  ]\n",
            " [0.   0.16 0.84]\n",
            " [0.   0.   1.  ]\n",
            " [0.   0.   1.  ]\n",
            " [0.   0.   1.  ]\n",
            " [0.   0.   1.  ]\n",
            " [0.   0.   1.  ]\n",
            " [0.   0.   1.  ]\n",
            " [0.28 0.44 0.28]\n",
            " [0.   0.   1.  ]\n",
            " [0.   0.   1.  ]\n",
            " [0.   0.   1.  ]\n",
            " [0.   0.   1.  ]\n",
            " [0.   0.   1.  ]\n",
            " [0.   0.01 0.99]\n",
            " [0.   0.02 0.98]\n",
            " [0.   0.   1.  ]\n",
            " [0.   0.   1.  ]\n",
            " [0.79 0.17 0.05]\n",
            " [0.   0.   1.  ]\n",
            " [0.   0.   1.  ]\n",
            " [0.   0.   1.  ]\n",
            " [0.91 0.07 0.02]\n",
            " [0.   0.   1.  ]\n",
            " [0.   0.   1.  ]\n",
            " [0.   0.   1.  ]\n",
            " [0.19 0.47 0.34]\n",
            " [0.   0.   1.  ]\n",
            " [0.   0.05 0.95]]\n"
          ]
        }
      ]
    }
  ]
}