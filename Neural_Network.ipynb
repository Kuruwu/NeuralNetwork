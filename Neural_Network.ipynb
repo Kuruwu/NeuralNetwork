{
  "nbformat": 4,
  "nbformat_minor": 0,
  "metadata": {
    "colab": {
      "provenance": [],
      "gpuType": "T4",
      "authorship_tag": "ABX9TyN76T0hLjNJs4BH+hkVtJ4Q",
      "include_colab_link": true
    },
    "kernelspec": {
      "name": "python3",
      "display_name": "Python 3"
    },
    "language_info": {
      "name": "python"
    },
    "accelerator": "GPU"
  },
  "cells": [
    {
      "cell_type": "markdown",
      "metadata": {
        "id": "view-in-github",
        "colab_type": "text"
      },
      "source": [
        "<a href=\"https://colab.research.google.com/github/Kuruwu/NeuralNetwork/blob/main/Neural_Network.ipynb\" target=\"_parent\"><img src=\"https://colab.research.google.com/assets/colab-badge.svg\" alt=\"Open In Colab\"/></a>"
      ]
    },
    {
      "cell_type": "code",
      "execution_count": 2,
      "metadata": {
        "id": "Si5nh2cMs4gG"
      },
      "outputs": [],
      "source": [
        "import numpy as np\n",
        "import matplotlib.pyplot as plt\n",
        "import pandas as pd"
      ]
    },
    {
      "cell_type": "code",
      "source": [
        "dataset = pd.read_csv('Dataset of Diabetes .csv')"
      ],
      "metadata": {
        "id": "RvrIbzmmtqbO"
      },
      "execution_count": 3,
      "outputs": []
    },
    {
      "cell_type": "code",
      "source": [
        "#Trim the Customer ID and Patient no from the table and seperate out the result into another table\n",
        "X = pd.DataFrame(dataset.iloc[:, 2:13].values)\n",
        "Y = dataset.iloc[:, 13].values\n",
        "print(Y)\n",
        "print(X)"
      ],
      "metadata": {
        "colab": {
          "base_uri": "https://localhost:8080/"
        },
        "id": "JOzS856ttq1-",
        "outputId": "5f9f8c3c-b2dc-4c45-a462-86a680456be0"
      },
      "execution_count": 4,
      "outputs": [
        {
          "output_type": "stream",
          "name": "stdout",
          "text": [
            "['N' 'N' 'N' 'N' 'N' 'N' 'N' 'N' 'N' 'N' 'N' 'N' 'N' 'N' 'N' 'N' 'N' 'N'\n",
            " 'N' 'N' 'N' 'N' 'N' 'N' 'N' 'N' 'N' 'N' 'N' 'N' 'N' 'N' 'N' 'N' 'N' 'N'\n",
            " 'N' 'N' 'N' 'N' 'N' 'N' 'N' 'N' 'N' 'N' 'N' 'N' 'N' 'N' 'N' 'N' 'N' 'N'\n",
            " 'N' 'N' 'N' 'N' 'N' 'N' 'N' 'N' 'N' 'N' 'N' 'N' 'N' 'N' 'N' 'N' 'N' 'N'\n",
            " 'N' 'N' 'N' 'N' 'N' 'N' 'N' 'N' 'N' 'N' 'N' 'N' 'N' 'N' 'N' 'N' 'N' 'N'\n",
            " 'N' 'N' 'N' 'N' 'N' 'N' 'N' 'N' 'N' 'N' 'N' 'N' 'N' 'P' 'P' 'P' 'P' 'P'\n",
            " 'P' 'P' 'P' 'P' 'P' 'P' 'P' 'P' 'P' 'P' 'P' 'P' 'P' 'P' 'P' 'P' 'P' 'P'\n",
            " 'P' 'P' 'P' 'P' 'P' 'P' 'P' 'P' 'P' 'P' 'P' 'P' 'P' 'P' 'P' 'P' 'P' 'P'\n",
            " 'P' 'P' 'P' 'P' 'P' 'P' 'P' 'P' 'P' 'P' 'P' 'P' 'Y' 'Y' 'Y' 'Y' 'Y' 'Y'\n",
            " 'Y' 'Y' 'Y' 'Y' 'Y' 'Y' 'Y' 'Y' 'Y' 'Y' 'Y' 'Y' 'Y' 'Y' 'Y' 'Y' 'Y' 'Y'\n",
            " 'Y' 'Y' 'Y' 'Y' 'Y' 'Y' 'Y' 'Y' 'Y' 'Y' 'Y' 'Y' 'Y' 'Y' 'Y' 'Y' 'Y' 'Y'\n",
            " 'Y' 'Y' 'Y' 'Y' 'Y' 'Y' 'Y' 'Y' 'Y' 'Y' 'Y' 'Y' 'Y' 'Y' 'Y' 'Y' 'Y' 'Y'\n",
            " 'Y' 'Y' 'Y' 'Y' 'Y' 'Y' 'Y' 'Y' 'Y' 'Y' 'Y' 'Y' 'Y' 'Y' 'Y' 'Y' 'Y' 'Y'\n",
            " 'Y' 'Y' 'Y' 'Y' 'Y' 'Y' 'Y' 'Y' 'Y' 'Y' 'Y' 'Y' 'Y' 'Y' 'Y' 'Y' 'Y' 'Y'\n",
            " 'Y' 'Y' 'Y' 'Y' 'Y' 'Y' 'Y' 'Y' 'Y' 'Y' 'Y' 'Y' 'Y' 'Y' 'Y' 'Y' 'Y' 'Y'\n",
            " 'Y' 'Y' 'Y' 'Y' 'Y' 'Y' 'Y' 'Y' 'Y' 'Y' 'Y' 'Y' 'Y' 'Y' 'Y' 'Y' 'Y' 'Y'\n",
            " 'Y' 'Y' 'Y' 'Y' 'Y' 'Y' 'Y' 'Y' 'Y' 'Y' 'Y' 'Y' 'Y' 'Y' 'Y' 'Y' 'Y' 'Y'\n",
            " 'Y' 'Y' 'Y' 'Y' 'Y' 'Y' 'Y' 'Y' 'Y' 'Y' 'Y' 'Y' 'Y' 'Y' 'Y' 'Y' 'Y' 'Y'\n",
            " 'Y' 'Y' 'Y' 'Y' 'Y' 'Y' 'Y' 'Y' 'Y' 'Y' 'Y' 'Y' 'Y' 'Y' 'Y' 'Y' 'Y' 'Y'\n",
            " 'Y' 'Y' 'Y' 'Y' 'Y' 'Y' 'Y' 'Y' 'Y' 'Y' 'Y' 'Y' 'Y' 'Y' 'Y' 'Y' 'Y' 'Y'\n",
            " 'Y' 'Y' 'Y' 'Y' 'Y' 'Y' 'Y' 'Y' 'Y' 'Y' 'Y' 'Y' 'Y' 'Y' 'Y' 'Y' 'Y' 'Y'\n",
            " 'Y' 'Y' 'Y' 'Y' 'Y' 'Y' 'Y' 'Y' 'Y' 'Y' 'Y' 'Y' 'Y' 'Y' 'Y' 'Y' 'Y' 'Y'\n",
            " 'Y' 'Y' 'Y' 'Y' 'Y' 'Y' 'Y' 'Y' 'Y' 'Y' 'Y' 'Y' 'Y' 'Y' 'Y' 'Y' 'Y' 'Y'\n",
            " 'Y' 'Y' 'Y' 'Y' 'Y' 'Y' 'Y' 'Y' 'Y' 'Y' 'Y' 'Y' 'Y' 'Y' 'Y' 'Y' 'Y' 'Y'\n",
            " 'Y' 'Y' 'Y' 'Y' 'Y' 'Y' 'Y' 'Y' 'Y' 'Y' 'Y' 'Y' 'Y' 'Y' 'Y' 'Y' 'Y' 'Y'\n",
            " 'Y' 'Y' 'Y' 'Y' 'Y' 'Y' 'Y' 'Y' 'Y' 'Y' 'Y' 'Y' 'Y' 'Y' 'Y' 'Y' 'Y' 'Y'\n",
            " 'Y' 'Y' 'Y' 'Y' 'Y' 'Y' 'Y' 'Y' 'Y' 'Y' 'Y' 'Y' 'Y' 'Y' 'Y' 'Y' 'Y' 'Y'\n",
            " 'Y' 'Y' 'Y' 'Y' 'Y' 'Y' 'Y' 'Y' 'Y' 'Y' 'Y' 'Y' 'Y' 'Y' 'Y' 'Y' 'Y' 'Y'\n",
            " 'Y' 'Y' 'Y' 'Y' 'Y' 'Y' 'Y' 'Y' 'Y' 'Y' 'Y' 'Y' 'Y' 'Y' 'Y' 'Y' 'Y' 'Y'\n",
            " 'Y' 'Y' 'Y' 'Y' 'Y' 'Y' 'Y' 'Y' 'Y' 'Y' 'Y' 'Y' 'Y' 'Y' 'Y' 'Y' 'Y' 'Y'\n",
            " 'Y' 'Y' 'Y' 'Y' 'Y' 'Y' 'Y' 'Y' 'Y' 'Y' 'Y' 'Y' 'Y' 'Y' 'Y' 'Y' 'Y' 'Y'\n",
            " 'Y' 'Y' 'Y' 'Y' 'Y' 'Y' 'Y' 'Y' 'Y' 'Y' 'Y' 'Y' 'Y' 'Y' 'Y' 'Y' 'Y' 'Y'\n",
            " 'Y' 'Y' 'Y' 'Y' 'Y' 'Y' 'Y' 'Y' 'Y' 'Y' 'Y' 'Y' 'Y' 'Y' 'Y' 'Y' 'Y' 'Y'\n",
            " 'Y' 'Y' 'Y' 'Y' 'Y' 'Y' 'Y' 'Y' 'Y' 'Y' 'Y' 'Y' 'Y' 'Y' 'Y' 'Y' 'Y' 'Y'\n",
            " 'Y' 'Y' 'Y' 'Y' 'Y' 'Y' 'Y' 'Y' 'Y' 'Y' 'Y' 'Y' 'Y' 'Y' 'Y' 'Y' 'Y' 'Y'\n",
            " 'Y' 'Y' 'Y' 'Y' 'Y' 'Y' 'Y' 'Y' 'Y' 'Y' 'Y' 'Y' 'Y' 'Y' 'Y' 'Y' 'Y' 'Y'\n",
            " 'Y' 'Y' 'Y' 'Y' 'Y' 'Y' 'Y' 'Y' 'Y' 'Y' 'Y' 'Y' 'Y' 'Y' 'Y' 'Y' 'Y' 'Y'\n",
            " 'Y' 'Y' 'Y' 'Y' 'Y' 'Y' 'Y' 'Y' 'Y' 'Y' 'Y' 'Y' 'Y' 'Y' 'Y' 'Y' 'Y' 'Y'\n",
            " 'Y' 'Y' 'Y' 'Y' 'Y' 'Y' 'Y' 'Y' 'Y' 'Y' 'Y' 'Y' 'Y' 'Y' 'Y' 'Y' 'Y' 'Y'\n",
            " 'Y' 'Y' 'Y' 'Y' 'Y' 'Y' 'Y' 'Y' 'Y' 'Y' 'Y' 'Y' 'Y' 'Y' 'Y' 'Y' 'Y' 'Y'\n",
            " 'Y' 'Y' 'Y' 'Y' 'Y' 'Y' 'Y' 'Y' 'Y' 'Y' 'Y' 'Y' 'Y' 'Y' 'Y' 'Y' 'Y' 'Y'\n",
            " 'Y' 'Y' 'Y' 'Y' 'Y' 'Y' 'Y' 'Y' 'Y' 'Y' 'Y' 'Y' 'Y' 'Y' 'Y' 'Y' 'Y' 'Y'\n",
            " 'Y' 'Y' 'Y' 'Y' 'Y' 'Y' 'Y' 'Y' 'Y' 'Y' 'Y' 'Y' 'Y' 'Y' 'Y' 'Y' 'Y' 'Y'\n",
            " 'Y' 'Y' 'Y' 'Y' 'Y' 'Y' 'Y' 'Y' 'Y' 'Y' 'Y' 'Y' 'Y' 'Y' 'Y' 'Y' 'Y' 'Y'\n",
            " 'Y' 'Y' 'Y' 'Y' 'Y' 'Y' 'Y' 'Y' 'Y' 'Y' 'Y' 'Y' 'Y' 'Y' 'Y' 'Y' 'Y' 'Y'\n",
            " 'Y' 'Y' 'Y' 'Y' 'Y' 'Y' 'Y' 'Y' 'Y' 'Y' 'Y' 'Y' 'Y' 'Y' 'Y' 'Y' 'Y' 'Y'\n",
            " 'Y' 'Y' 'Y' 'Y' 'Y' 'Y' 'Y' 'Y' 'Y' 'Y' 'Y' 'Y' 'Y' 'Y' 'Y' 'Y' 'Y' 'Y'\n",
            " 'Y' 'Y' 'Y' 'Y' 'Y' 'Y' 'Y' 'Y' 'Y' 'Y' 'Y' 'Y' 'Y' 'Y' 'Y' 'Y' 'Y' 'Y'\n",
            " 'Y' 'Y' 'Y' 'Y' 'Y' 'Y' 'Y' 'Y' 'Y' 'Y' 'Y' 'Y' 'Y' 'Y' 'Y' 'Y' 'Y' 'Y'\n",
            " 'Y' 'Y' 'Y' 'Y' 'Y' 'Y' 'Y' 'Y' 'Y' 'Y' 'Y' 'Y' 'Y' 'Y' 'Y' 'Y' 'Y' 'Y'\n",
            " 'Y' 'Y' 'Y' 'Y' 'Y' 'Y' 'Y' 'Y' 'Y' 'Y' 'Y' 'Y' 'Y' 'Y' 'Y' 'Y' 'Y' 'Y'\n",
            " 'Y' 'Y' 'Y' 'Y' 'Y' 'Y' 'Y' 'Y' 'Y' 'Y' 'Y' 'Y' 'Y' 'Y' 'Y' 'Y' 'Y' 'Y'\n",
            " 'Y' 'Y' 'Y' 'Y' 'Y' 'Y' 'Y' 'Y' 'Y' 'Y' 'Y' 'Y' 'Y' 'Y' 'Y' 'Y' 'Y' 'Y'\n",
            " 'Y' 'Y' 'Y' 'Y' 'Y' 'Y' 'Y' 'Y' 'Y' 'Y' 'Y' 'Y' 'Y' 'Y' 'Y' 'Y' 'Y' 'Y'\n",
            " 'Y' 'Y' 'Y' 'Y' 'Y' 'Y' 'Y' 'Y' 'Y' 'Y' 'Y' 'Y' 'Y' 'Y' 'Y' 'Y' 'Y' 'Y'\n",
            " 'Y' 'Y' 'Y' 'Y' 'Y' 'Y' 'Y' 'Y' 'Y' 'Y']\n",
            "    0   1     2   3     4    5    6    7    8     9     10\n",
            "0    F  50   4.7  46   4.9  4.2  0.9  2.4  1.4   0.5  24.0\n",
            "1    M  26   4.5  62   4.9  3.7  1.4  1.1  2.1   0.6  23.0\n",
            "2    F  50   4.7  46   4.9  4.2  0.9  2.4  1.4   0.5  24.0\n",
            "3    F  50   4.7  46   4.9  4.2  0.9  2.4  1.4   0.5  24.0\n",
            "4    M  33   7.1  46   4.9  4.9  1.0  0.8  2.0   0.4  21.0\n",
            "..  ..  ..   ...  ..   ...  ...  ...  ...  ...   ...   ...\n",
            "995  M  71  11.0  97   7.0  7.5  1.7  1.2  1.8   0.6  30.0\n",
            "996  M  31   3.0  60  12.3  4.1  2.2  0.7  2.4  15.4  37.2\n",
            "997  M  30   7.1  81   6.7  4.1  1.1  1.2  2.4   8.1  27.4\n",
            "998  M  38   5.8  59   6.7  5.3  2.0  1.6  2.9  14.0  40.5\n",
            "999  M  54   5.0  67   6.9  3.8  1.7  1.1  3.0   0.7  33.0\n",
            "\n",
            "[1000 rows x 11 columns]\n"
          ]
        }
      ]
    },
    {
      "cell_type": "code",
      "source": [
        "#Y = np.char.strip(Y)\n",
        "#print(Y)"
      ],
      "metadata": {
        "id": "OaKXrToX42E0"
      },
      "execution_count": 5,
      "outputs": []
    },
    {
      "cell_type": "code",
      "source": [
        "from sklearn.preprocessing import LabelEncoder, OneHotEncoder\n",
        "labelencoder_X_0 = LabelEncoder()\n",
        "X.loc[:, 0] = labelencoder_X_0.fit_transform(X.iloc[:, 0]) #Turning male and female into binary representation (0 or 1)\n",
        "print(X)"
      ],
      "metadata": {
        "id": "pqtND7pMt0rk",
        "colab": {
          "base_uri": "https://localhost:8080/"
        },
        "outputId": "d3ee73cd-ea57-4aa6-82da-33706f4ef221"
      },
      "execution_count": 6,
      "outputs": [
        {
          "output_type": "stream",
          "name": "stdout",
          "text": [
            "    0   1     2   3     4    5    6    7    8     9     10\n",
            "0    0  50   4.7  46   4.9  4.2  0.9  2.4  1.4   0.5  24.0\n",
            "1    1  26   4.5  62   4.9  3.7  1.4  1.1  2.1   0.6  23.0\n",
            "2    0  50   4.7  46   4.9  4.2  0.9  2.4  1.4   0.5  24.0\n",
            "3    0  50   4.7  46   4.9  4.2  0.9  2.4  1.4   0.5  24.0\n",
            "4    1  33   7.1  46   4.9  4.9  1.0  0.8  2.0   0.4  21.0\n",
            "..  ..  ..   ...  ..   ...  ...  ...  ...  ...   ...   ...\n",
            "995  1  71  11.0  97   7.0  7.5  1.7  1.2  1.8   0.6  30.0\n",
            "996  1  31   3.0  60  12.3  4.1  2.2  0.7  2.4  15.4  37.2\n",
            "997  1  30   7.1  81   6.7  4.1  1.1  1.2  2.4   8.1  27.4\n",
            "998  1  38   5.8  59   6.7  5.3  2.0  1.6  2.9  14.0  40.5\n",
            "999  1  54   5.0  67   6.9  3.8  1.7  1.1  3.0   0.7  33.0\n",
            "\n",
            "[1000 rows x 11 columns]\n"
          ]
        }
      ]
    },
    {
      "cell_type": "code",
      "source": [
        "onehotencoder = OneHotEncoder(categories='auto', sparse_output=False)\n",
        "Y = onehotencoder.fit_transform(Y.reshape(-1, 1))\n",
        "print(Y) #Formatting The Classes N P Y into a binary matrix\n",
        "classes_order = onehotencoder.categories_[0]\n",
        "print(classes_order)"
      ],
      "metadata": {
        "colab": {
          "base_uri": "https://localhost:8080/"
        },
        "id": "jw2SpXNY0ysl",
        "outputId": "b19eb64f-3513-40bd-9832-1ce712f9b556"
      },
      "execution_count": 7,
      "outputs": [
        {
          "output_type": "stream",
          "name": "stdout",
          "text": [
            "[[1. 0. 0.]\n",
            " [1. 0. 0.]\n",
            " [1. 0. 0.]\n",
            " ...\n",
            " [0. 0. 1.]\n",
            " [0. 0. 1.]\n",
            " [0. 0. 1.]]\n",
            "['N' 'P' 'Y']\n"
          ]
        }
      ]
    },
    {
      "cell_type": "code",
      "source": [
        "from sklearn.model_selection import train_test_split\n",
        "X_train, X_test, Y_train, Y_test = train_test_split(X, Y, test_size = 0.2, random_state = 0) #20% of dataset will be used for testing."
      ],
      "metadata": {
        "id": "5ugIrN_9ufw7"
      },
      "execution_count": 8,
      "outputs": []
    },
    {
      "cell_type": "code",
      "source": [
        "from sklearn.preprocessing import StandardScaler\n",
        "sc = StandardScaler()\n",
        "X_train = sc.fit_transform(X_train)\n",
        "X_test = sc.transform(X_test) #Normalize the data\n",
        "print(X_test)\n",
        "print(X_train)"
      ],
      "metadata": {
        "colab": {
          "base_uri": "https://localhost:8080/"
        },
        "id": "MzhejhQ4uW3X",
        "outputId": "082b6b51-cf0e-4f29-82df-be83742df9f6"
      },
      "execution_count": 9,
      "outputs": [
        {
          "output_type": "stream",
          "name": "stdout",
          "text": [
            "[[ 0.86634118 -2.82406172 -0.55374694 ... -0.00926875 -0.29117027\n",
            "   1.4760338 ]\n",
            " [ 0.86634118 -0.25508285  0.10876351 ... -0.54208306 -0.45133727\n",
            "   0.09798425]\n",
            " [ 0.86634118  0.30339082 -0.65312351 ...  0.70115033 -0.21108677\n",
            "   0.49171269]\n",
            " ...\n",
            " [-1.15427965 -2.26558805  0.17501456 ...  1.14516226 -0.10430876\n",
            "  -1.28006531]\n",
            " [ 0.86634118 -0.25508285 -0.4874959  ... -0.80849021 -0.10430876\n",
            "   1.08230536]\n",
            " [ 0.86634118 -1.14864072 -0.25561724 ... -0.63088544 -0.29117027\n",
            "  -0.09887998]]\n",
            "[[ 0.86634118  0.97355922 -0.0568641  ... -0.09807113 -0.26447577\n",
            "   0.09798425]\n",
            " [ 0.86634118 -0.14338811  0.07563799 ... -0.09807113 -0.26447577\n",
            "  -0.2957442 ]\n",
            " [-1.15427965  0.86186449 -0.61999799 ... -1.51890929 -0.10430876\n",
            "   1.27916958]\n",
            " ...\n",
            " [ 0.86634118  0.41508555 -0.35499381 ... -0.09807113 -0.26447577\n",
            "   0.09798425]\n",
            " [ 0.86634118  0.19169609 -0.85187665 ...  0.8787551  -0.07761426\n",
            "   1.27916958]\n",
            " [ 0.86634118  0.75016976 -0.32186828 ... -1.07489737 -0.21108677\n",
            "   0.88544114]]\n"
          ]
        }
      ]
    },
    {
      "cell_type": "code",
      "source": [
        "import keras\n",
        "from keras.models import Sequential\n",
        "from keras.layers import Dense\n",
        "#The term \"dense\" implies that each neuron in this layer is connected to every neuron in the previous layer, forming a fully connected layer."
      ],
      "metadata": {
        "id": "vHufgC1Xukxs"
      },
      "execution_count": 10,
      "outputs": []
    },
    {
      "cell_type": "code",
      "source": [
        "classifier = Sequential() #Creating our model"
      ],
      "metadata": {
        "id": "ZPchaP42wWhk"
      },
      "execution_count": 11,
      "outputs": []
    },
    {
      "cell_type": "code",
      "source": [
        "#Input and Hidden Layer\n",
        "classifier.add(Dense(units=6, kernel_initializer='uniform', activation='relu', input_dim=11))\n",
        "#Add 6 neurons to our layer that takes 11 inputs (Each column). RELU activation."
      ],
      "metadata": {
        "id": "gwuFQDPzwcqi"
      },
      "execution_count": 12,
      "outputs": []
    },
    {
      "cell_type": "code",
      "source": [
        "classifier.add(Dense(units=6, kernel_initializer='uniform', activation='relu')) #Hidden Layer 2"
      ],
      "metadata": {
        "id": "XO8JRmFJH7xq"
      },
      "execution_count": 13,
      "outputs": []
    },
    {
      "cell_type": "code",
      "source": [
        "classifier.add(Dense(units=3, kernel_initializer='uniform', activation='softmax')) #Output Layer (3 Outputs for 3 Possible Values N P Y)"
      ],
      "metadata": {
        "id": "IQCGGR2VyZ93"
      },
      "execution_count": 14,
      "outputs": []
    },
    {
      "cell_type": "code",
      "source": [
        "classifier.compile(optimizer = 'adam', loss = 'categorical_crossentropy', metrics = ['accuracy'])"
      ],
      "metadata": {
        "id": "0-qh85oMykEU"
      },
      "execution_count": 15,
      "outputs": []
    },
    {
      "cell_type": "code",
      "source": [
        "history=classifier.fit(X_train, Y_train, batch_size = 10, epochs = 80)"
      ],
      "metadata": {
        "colab": {
          "base_uri": "https://localhost:8080/"
        },
        "id": "2Kv3Xw1oylxi",
        "outputId": "b22bda3a-e7d5-40fc-8f2b-e0a62241a84d"
      },
      "execution_count": 16,
      "outputs": [
        {
          "output_type": "stream",
          "name": "stdout",
          "text": [
            "Epoch 1/80\n",
            "80/80 [==============================] - 7s 5ms/step - loss: 1.0342 - accuracy: 0.8325\n",
            "Epoch 2/80\n",
            "80/80 [==============================] - 1s 8ms/step - loss: 0.7085 - accuracy: 0.8350\n",
            "Epoch 3/80\n",
            "80/80 [==============================] - 1s 7ms/step - loss: 0.4103 - accuracy: 0.8350\n",
            "Epoch 4/80\n",
            "80/80 [==============================] - 1s 8ms/step - loss: 0.3458 - accuracy: 0.8350\n",
            "Epoch 5/80\n",
            "80/80 [==============================] - 1s 7ms/step - loss: 0.3245 - accuracy: 0.8350\n",
            "Epoch 6/80\n",
            "80/80 [==============================] - 1s 8ms/step - loss: 0.3106 - accuracy: 0.8350\n",
            "Epoch 7/80\n",
            "80/80 [==============================] - 1s 8ms/step - loss: 0.2999 - accuracy: 0.8350\n",
            "Epoch 8/80\n",
            "80/80 [==============================] - 1s 8ms/step - loss: 0.2908 - accuracy: 0.8350\n",
            "Epoch 9/80\n",
            "80/80 [==============================] - 0s 5ms/step - loss: 0.2828 - accuracy: 0.8350\n",
            "Epoch 10/80\n",
            "80/80 [==============================] - 0s 5ms/step - loss: 0.2757 - accuracy: 0.8350\n",
            "Epoch 11/80\n",
            "80/80 [==============================] - 0s 6ms/step - loss: 0.2698 - accuracy: 0.8350\n",
            "Epoch 12/80\n",
            "80/80 [==============================] - 0s 5ms/step - loss: 0.2642 - accuracy: 0.8350\n",
            "Epoch 13/80\n",
            "80/80 [==============================] - 0s 6ms/step - loss: 0.2589 - accuracy: 0.8413\n",
            "Epoch 14/80\n",
            "80/80 [==============================] - 0s 5ms/step - loss: 0.2546 - accuracy: 0.8938\n",
            "Epoch 15/80\n",
            "80/80 [==============================] - 0s 4ms/step - loss: 0.2509 - accuracy: 0.9050\n",
            "Epoch 16/80\n",
            "80/80 [==============================] - 1s 6ms/step - loss: 0.2477 - accuracy: 0.9062\n",
            "Epoch 17/80\n",
            "80/80 [==============================] - 1s 8ms/step - loss: 0.2453 - accuracy: 0.9062\n",
            "Epoch 18/80\n",
            "80/80 [==============================] - 1s 6ms/step - loss: 0.2422 - accuracy: 0.9087\n",
            "Epoch 19/80\n",
            "80/80 [==============================] - 0s 4ms/step - loss: 0.2396 - accuracy: 0.9112\n",
            "Epoch 20/80\n",
            "80/80 [==============================] - 0s 4ms/step - loss: 0.2365 - accuracy: 0.9125\n",
            "Epoch 21/80\n",
            "80/80 [==============================] - 0s 4ms/step - loss: 0.2341 - accuracy: 0.9150\n",
            "Epoch 22/80\n",
            "80/80 [==============================] - 0s 4ms/step - loss: 0.2316 - accuracy: 0.9137\n",
            "Epoch 23/80\n",
            "80/80 [==============================] - 0s 4ms/step - loss: 0.2292 - accuracy: 0.9125\n",
            "Epoch 24/80\n",
            "80/80 [==============================] - 0s 3ms/step - loss: 0.2268 - accuracy: 0.9112\n",
            "Epoch 25/80\n",
            "80/80 [==============================] - 0s 3ms/step - loss: 0.2253 - accuracy: 0.9175\n",
            "Epoch 26/80\n",
            "80/80 [==============================] - 0s 3ms/step - loss: 0.2230 - accuracy: 0.9137\n",
            "Epoch 27/80\n",
            "80/80 [==============================] - 0s 3ms/step - loss: 0.2209 - accuracy: 0.9087\n",
            "Epoch 28/80\n",
            "80/80 [==============================] - 0s 3ms/step - loss: 0.2190 - accuracy: 0.9137\n",
            "Epoch 29/80\n",
            "80/80 [==============================] - 0s 3ms/step - loss: 0.2169 - accuracy: 0.9112\n",
            "Epoch 30/80\n",
            "80/80 [==============================] - 0s 3ms/step - loss: 0.2150 - accuracy: 0.9100\n",
            "Epoch 31/80\n",
            "80/80 [==============================] - 0s 3ms/step - loss: 0.2136 - accuracy: 0.9112\n",
            "Epoch 32/80\n",
            "80/80 [==============================] - 0s 3ms/step - loss: 0.2118 - accuracy: 0.9050\n",
            "Epoch 33/80\n",
            "80/80 [==============================] - 0s 3ms/step - loss: 0.2104 - accuracy: 0.9112\n",
            "Epoch 34/80\n",
            "80/80 [==============================] - 0s 3ms/step - loss: 0.2080 - accuracy: 0.9100\n",
            "Epoch 35/80\n",
            "80/80 [==============================] - 0s 3ms/step - loss: 0.2065 - accuracy: 0.9112\n",
            "Epoch 36/80\n",
            "80/80 [==============================] - 0s 3ms/step - loss: 0.2050 - accuracy: 0.9125\n",
            "Epoch 37/80\n",
            "80/80 [==============================] - 0s 3ms/step - loss: 0.2031 - accuracy: 0.9150\n",
            "Epoch 38/80\n",
            "80/80 [==============================] - 0s 3ms/step - loss: 0.2015 - accuracy: 0.9137\n",
            "Epoch 39/80\n",
            "80/80 [==============================] - 0s 3ms/step - loss: 0.1997 - accuracy: 0.9137\n",
            "Epoch 40/80\n",
            "80/80 [==============================] - 0s 3ms/step - loss: 0.1983 - accuracy: 0.9137\n",
            "Epoch 41/80\n",
            "80/80 [==============================] - 0s 3ms/step - loss: 0.1963 - accuracy: 0.9137\n",
            "Epoch 42/80\n",
            "80/80 [==============================] - 0s 3ms/step - loss: 0.1952 - accuracy: 0.9150\n",
            "Epoch 43/80\n",
            "80/80 [==============================] - 0s 3ms/step - loss: 0.1936 - accuracy: 0.9150\n",
            "Epoch 44/80\n",
            "80/80 [==============================] - 0s 3ms/step - loss: 0.1923 - accuracy: 0.9162\n",
            "Epoch 45/80\n",
            "80/80 [==============================] - 0s 3ms/step - loss: 0.1907 - accuracy: 0.9150\n",
            "Epoch 46/80\n",
            "80/80 [==============================] - 0s 3ms/step - loss: 0.1894 - accuracy: 0.9150\n",
            "Epoch 47/80\n",
            "80/80 [==============================] - 0s 3ms/step - loss: 0.1880 - accuracy: 0.9162\n",
            "Epoch 48/80\n",
            "80/80 [==============================] - 0s 3ms/step - loss: 0.1858 - accuracy: 0.9175\n",
            "Epoch 49/80\n",
            "80/80 [==============================] - 0s 3ms/step - loss: 0.1842 - accuracy: 0.9162\n",
            "Epoch 50/80\n",
            "80/80 [==============================] - 0s 3ms/step - loss: 0.1823 - accuracy: 0.9150\n",
            "Epoch 51/80\n",
            "80/80 [==============================] - 0s 3ms/step - loss: 0.1807 - accuracy: 0.9162\n",
            "Epoch 52/80\n",
            "80/80 [==============================] - 0s 3ms/step - loss: 0.1787 - accuracy: 0.9150\n",
            "Epoch 53/80\n",
            "80/80 [==============================] - 0s 3ms/step - loss: 0.1768 - accuracy: 0.9150\n",
            "Epoch 54/80\n",
            "80/80 [==============================] - 0s 3ms/step - loss: 0.1755 - accuracy: 0.9162\n",
            "Epoch 55/80\n",
            "80/80 [==============================] - 0s 3ms/step - loss: 0.1737 - accuracy: 0.9175\n",
            "Epoch 56/80\n",
            "80/80 [==============================] - 0s 3ms/step - loss: 0.1714 - accuracy: 0.9162\n",
            "Epoch 57/80\n",
            "80/80 [==============================] - 0s 3ms/step - loss: 0.1698 - accuracy: 0.9187\n",
            "Epoch 58/80\n",
            "80/80 [==============================] - 0s 3ms/step - loss: 0.1686 - accuracy: 0.9175\n",
            "Epoch 59/80\n",
            "80/80 [==============================] - 0s 3ms/step - loss: 0.1668 - accuracy: 0.9187\n",
            "Epoch 60/80\n",
            "80/80 [==============================] - 0s 3ms/step - loss: 0.1650 - accuracy: 0.9237\n",
            "Epoch 61/80\n",
            "80/80 [==============================] - 0s 3ms/step - loss: 0.1638 - accuracy: 0.9287\n",
            "Epoch 62/80\n",
            "80/80 [==============================] - 0s 3ms/step - loss: 0.1626 - accuracy: 0.9212\n",
            "Epoch 63/80\n",
            "80/80 [==============================] - 0s 3ms/step - loss: 0.1607 - accuracy: 0.9262\n",
            "Epoch 64/80\n",
            "80/80 [==============================] - 0s 3ms/step - loss: 0.1594 - accuracy: 0.9287\n",
            "Epoch 65/80\n",
            "80/80 [==============================] - 0s 3ms/step - loss: 0.1586 - accuracy: 0.9262\n",
            "Epoch 66/80\n",
            "80/80 [==============================] - 0s 4ms/step - loss: 0.1575 - accuracy: 0.9287\n",
            "Epoch 67/80\n",
            "80/80 [==============================] - 0s 4ms/step - loss: 0.1557 - accuracy: 0.9300\n",
            "Epoch 68/80\n",
            "80/80 [==============================] - 0s 4ms/step - loss: 0.1546 - accuracy: 0.9287\n",
            "Epoch 69/80\n",
            "80/80 [==============================] - 0s 4ms/step - loss: 0.1537 - accuracy: 0.9225\n",
            "Epoch 70/80\n",
            "80/80 [==============================] - 0s 4ms/step - loss: 0.1524 - accuracy: 0.9312\n",
            "Epoch 71/80\n",
            "80/80 [==============================] - 0s 4ms/step - loss: 0.1518 - accuracy: 0.9300\n",
            "Epoch 72/80\n",
            "80/80 [==============================] - 0s 4ms/step - loss: 0.1504 - accuracy: 0.9300\n",
            "Epoch 73/80\n",
            "80/80 [==============================] - 0s 4ms/step - loss: 0.1493 - accuracy: 0.9312\n",
            "Epoch 74/80\n",
            "80/80 [==============================] - 0s 4ms/step - loss: 0.1487 - accuracy: 0.9312\n",
            "Epoch 75/80\n",
            "80/80 [==============================] - 0s 4ms/step - loss: 0.1474 - accuracy: 0.9325\n",
            "Epoch 76/80\n",
            "80/80 [==============================] - 0s 4ms/step - loss: 0.1474 - accuracy: 0.9250\n",
            "Epoch 77/80\n",
            "80/80 [==============================] - 0s 3ms/step - loss: 0.1459 - accuracy: 0.9300\n",
            "Epoch 78/80\n",
            "80/80 [==============================] - 0s 3ms/step - loss: 0.1448 - accuracy: 0.9287\n",
            "Epoch 79/80\n",
            "80/80 [==============================] - 0s 3ms/step - loss: 0.1448 - accuracy: 0.9325\n",
            "Epoch 80/80\n",
            "80/80 [==============================] - 0s 3ms/step - loss: 0.1436 - accuracy: 0.9388\n"
          ]
        }
      ]
    },
    {
      "cell_type": "code",
      "source": [
        "plt.plot(history.history['loss'])\n",
        "plt.title('Model loss')\n",
        "plt.ylabel('Loss')\n",
        "plt.xlabel('Epoch')\n",
        "plt.show()"
      ],
      "metadata": {
        "colab": {
          "base_uri": "https://localhost:8080/",
          "height": 472
        },
        "id": "IojnI6lV-Fyd",
        "outputId": "848cdeae-8183-47ec-f679-c795ef9e1244"
      },
      "execution_count": 17,
      "outputs": [
        {
          "output_type": "display_data",
          "data": {
            "text/plain": [
              "<Figure size 640x480 with 1 Axes>"
            ],
            "image/png": "[encoded data removed]"
          },
          "metadata": {}
        }
      ]
    },
    {
      "cell_type": "code",
      "source": [
        "loss, accuracy = classifier.evaluate(X_test, Y_test) #Using test data\n",
        "\n",
        "#Print the loss and accuracy (metrics)\n",
        "print(\"Test Loss:\", loss)\n",
        "print(\"Test Accuracy:\", accuracy)"
      ],
      "metadata": {
        "id": "oB9O9Ok6Mc41",
        "colab": {
          "base_uri": "https://localhost:8080/"
        },
        "outputId": "c2a335b9-6582-4d19-f93f-48852ed712f2"
      },
      "execution_count": 18,
      "outputs": [
        {
          "output_type": "stream",
          "name": "stdout",
          "text": [
            "7/7 [==============================] - 0s 3ms/step - loss: 0.1339 - accuracy: 0.9500\n",
            "Test Loss: 0.13392429053783417\n",
            "Test Accuracy: 0.949999988079071\n"
          ]
        }
      ]
    },
    {
      "cell_type": "code",
      "source": [
        "#Get predictions on the test data\n",
        "from sklearn.metrics import confusion_matrix\n",
        "y_pred = classifier.predict(X_test)\n",
        "cm = confusion_matrix(Y_test.argmax(axis=1), y_pred.argmax(axis=1))\n",
        "print(\"Confusion Matrix:\")\n",
        "print(cm)"
      ],
      "metadata": {
        "colab": {
          "base_uri": "https://localhost:8080/"
        },
        "id": "maqvTPVkF7iz",
        "outputId": "51fec3f2-3f86-419e-ac29-44441afb9463"
      },
      "execution_count": 19,
      "outputs": [
        {
          "output_type": "stream",
          "name": "stdout",
          "text": [
            "7/7 [==============================] - 0s 2ms/step\n",
            "Confusion Matrix:\n",
            "[[ 16   0   0]\n",
            " [  0   3   5]\n",
            " [  5   0 171]]\n"
          ]
        }
      ]
    },
    {
      "cell_type": "code",
      "source": [
        "#Show the probabilities of each class between 0 and 1 using scientific notation.\n",
        "y_probabilities = classifier.predict(X_test)\n",
        "#Round to two decimal places for readability.\n",
        "y_probabilities = np.round(y_probabilities, decimals=2)\n",
        "print(y_probabilities)"
      ],
      "metadata": {
        "colab": {
          "base_uri": "https://localhost:8080/"
        },
        "id": "sGCFubXrox0Q",
        "outputId": "2ee0e466-d685-4cdd-a639-7f01c98c7318"
      },
      "execution_count": 21,
      "outputs": [
        {
          "output_type": "stream",
          "name": "stdout",
          "text": [
            "7/7 [==============================] - 0s 4ms/step\n",
            "[[0.   0.   1.  ]\n",
            " [0.   0.   1.  ]\n",
            " [0.   0.   1.  ]\n",
            " [0.   0.   1.  ]\n",
            " [0.   0.   1.  ]\n",
            " [0.   0.04 0.96]\n",
            " [0.77 0.15 0.07]\n",
            " [0.   0.   1.  ]\n",
            " [0.   0.02 0.98]\n",
            " [0.   0.   1.  ]\n",
            " [0.   0.   1.  ]\n",
            " [0.   0.   1.  ]\n",
            " [0.   0.   1.  ]\n",
            " [0.   0.   1.  ]\n",
            " [0.   0.   1.  ]\n",
            " [0.77 0.15 0.07]\n",
            " [0.   0.22 0.78]\n",
            " [0.73 0.18 0.09]\n",
            " [0.77 0.15 0.07]\n",
            " [0.77 0.15 0.07]\n",
            " [0.61 0.25 0.14]\n",
            " [0.   0.   1.  ]\n",
            " [0.   0.   1.  ]\n",
            " [0.   0.   1.  ]\n",
            " [0.   0.   1.  ]\n",
            " [0.   0.   1.  ]\n",
            " [0.77 0.15 0.07]\n",
            " [0.16 0.45 0.39]\n",
            " [0.   0.   1.  ]\n",
            " [0.77 0.15 0.07]\n",
            " [0.   0.   1.  ]\n",
            " [0.   0.   1.  ]\n",
            " [0.   0.   1.  ]\n",
            " [0.   0.   1.  ]\n",
            " [0.   0.   1.  ]\n",
            " [0.   0.   1.  ]\n",
            " [0.   0.   1.  ]\n",
            " [0.   0.   1.  ]\n",
            " [0.   0.04 0.96]\n",
            " [0.   0.   1.  ]\n",
            " [0.   0.   1.  ]\n",
            " [0.   0.   1.  ]\n",
            " [0.   0.   1.  ]\n",
            " [0.   0.   1.  ]\n",
            " [0.   0.   1.  ]\n",
            " [0.   0.   1.  ]\n",
            " [0.   0.   1.  ]\n",
            " [0.14 0.46 0.41]\n",
            " [0.   0.   1.  ]\n",
            " [0.   0.   1.  ]\n",
            " [0.   0.   1.  ]\n",
            " [0.   0.   1.  ]\n",
            " [0.   0.   1.  ]\n",
            " [0.   0.   1.  ]\n",
            " [0.   0.03 0.97]\n",
            " [0.   0.   1.  ]\n",
            " [0.   0.   1.  ]\n",
            " [0.   0.01 0.99]\n",
            " [0.   0.   1.  ]\n",
            " [0.   0.   1.  ]\n",
            " [0.   0.   1.  ]\n",
            " [0.   0.   1.  ]\n",
            " [0.05 0.45 0.5 ]\n",
            " [0.77 0.15 0.07]\n",
            " [0.   0.   1.  ]\n",
            " [0.   0.01 0.99]\n",
            " [0.   0.05 0.95]\n",
            " [0.   0.   1.  ]\n",
            " [0.   0.   1.  ]\n",
            " [0.   0.   1.  ]\n",
            " [0.   0.   1.  ]\n",
            " [0.   0.   1.  ]\n",
            " [0.   0.   1.  ]\n",
            " [0.   0.   1.  ]\n",
            " [0.   0.   1.  ]\n",
            " [0.   0.   1.  ]\n",
            " [0.   0.   1.  ]\n",
            " [0.   0.   1.  ]\n",
            " [0.77 0.15 0.07]\n",
            " [0.   0.   1.  ]\n",
            " [0.   0.   1.  ]\n",
            " [0.   0.   1.  ]\n",
            " [0.   0.   1.  ]\n",
            " [0.   0.01 0.99]\n",
            " [0.   0.   1.  ]\n",
            " [0.   0.   1.  ]\n",
            " [0.   0.   1.  ]\n",
            " [0.   0.   1.  ]\n",
            " [0.   0.   1.  ]\n",
            " [0.   0.   1.  ]\n",
            " [0.   0.   1.  ]\n",
            " [0.   0.   1.  ]\n",
            " [0.   0.01 0.99]\n",
            " [0.   0.01 0.99]\n",
            " [0.   0.   1.  ]\n",
            " [0.   0.   1.  ]\n",
            " [0.   0.   1.  ]\n",
            " [0.   0.29 0.71]\n",
            " [0.   0.   1.  ]\n",
            " [0.   0.   1.  ]\n",
            " [0.   0.   1.  ]\n",
            " [0.   0.02 0.98]\n",
            " [0.76 0.16 0.08]\n",
            " [0.   0.   1.  ]\n",
            " [0.   0.   1.  ]\n",
            " [0.   0.   1.  ]\n",
            " [0.   0.   1.  ]\n",
            " [0.   0.   1.  ]\n",
            " [0.   0.01 0.99]\n",
            " [0.   0.12 0.88]\n",
            " [0.77 0.15 0.07]\n",
            " [0.   0.   1.  ]\n",
            " [0.   0.01 0.99]\n",
            " [0.   0.   1.  ]\n",
            " [0.   0.01 0.99]\n",
            " [0.   0.   1.  ]\n",
            " [0.   0.   1.  ]\n",
            " [0.   0.   1.  ]\n",
            " [0.   0.   1.  ]\n",
            " [0.   0.   1.  ]\n",
            " [0.   0.   1.  ]\n",
            " [0.   0.   1.  ]\n",
            " [0.06 0.45 0.49]\n",
            " [0.   0.   1.  ]\n",
            " [0.71 0.19 0.1 ]\n",
            " [0.   0.   1.  ]\n",
            " [0.   0.   1.  ]\n",
            " [0.   0.   1.  ]\n",
            " [0.   0.   1.  ]\n",
            " [0.   0.   1.  ]\n",
            " [0.   0.   1.  ]\n",
            " [0.   0.   1.  ]\n",
            " [0.   0.01 0.99]\n",
            " [0.   0.   1.  ]\n",
            " [0.   0.   1.  ]\n",
            " [0.   0.   1.  ]\n",
            " [0.   0.   1.  ]\n",
            " [0.43 0.34 0.22]\n",
            " [0.   0.   1.  ]\n",
            " [0.   0.01 0.99]\n",
            " [0.77 0.15 0.07]\n",
            " [0.   0.   1.  ]\n",
            " [0.   0.   1.  ]\n",
            " [0.   0.01 0.99]\n",
            " [0.   0.   1.  ]\n",
            " [0.   0.   1.  ]\n",
            " [0.   0.   1.  ]\n",
            " [0.   0.   1.  ]\n",
            " [0.76 0.16 0.08]\n",
            " [0.77 0.15 0.07]\n",
            " [0.   0.   1.  ]\n",
            " [0.77 0.15 0.07]\n",
            " [0.   0.   1.  ]\n",
            " [0.   0.   1.  ]\n",
            " [0.   0.   1.  ]\n",
            " [0.   0.   1.  ]\n",
            " [0.   0.   1.  ]\n",
            " [0.   0.05 0.95]\n",
            " [0.   0.   1.  ]\n",
            " [0.   0.   1.  ]\n",
            " [0.   0.   1.  ]\n",
            " [0.   0.   1.  ]\n",
            " [0.   0.   1.  ]\n",
            " [0.   0.   1.  ]\n",
            " [0.   0.   1.  ]\n",
            " [0.   0.   1.  ]\n",
            " [0.   0.   1.  ]\n",
            " [0.   0.   1.  ]\n",
            " [0.   0.   1.  ]\n",
            " [0.   0.   1.  ]\n",
            " [0.   0.   1.  ]\n",
            " [0.   0.   1.  ]\n",
            " [0.01 0.38 0.61]\n",
            " [0.   0.   1.  ]\n",
            " [0.   0.   1.  ]\n",
            " [0.   0.   1.  ]\n",
            " [0.   0.   1.  ]\n",
            " [0.   0.   1.  ]\n",
            " [0.   0.   1.  ]\n",
            " [0.14 0.46 0.41]\n",
            " [0.   0.   1.  ]\n",
            " [0.   0.   1.  ]\n",
            " [0.   0.   1.  ]\n",
            " [0.   0.   1.  ]\n",
            " [0.   0.   1.  ]\n",
            " [0.   0.   1.  ]\n",
            " [0.   0.   1.  ]\n",
            " [0.   0.   1.  ]\n",
            " [0.   0.   1.  ]\n",
            " [0.77 0.15 0.07]\n",
            " [0.   0.   1.  ]\n",
            " [0.   0.   1.  ]\n",
            " [0.   0.   1.  ]\n",
            " [0.77 0.15 0.07]\n",
            " [0.   0.   1.  ]\n",
            " [0.   0.   1.  ]\n",
            " [0.   0.   1.  ]\n",
            " [0.77 0.15 0.07]\n",
            " [0.   0.   1.  ]\n",
            " [0.   0.15 0.85]]\n"
          ]
        }
      ]
    }
  ]
}